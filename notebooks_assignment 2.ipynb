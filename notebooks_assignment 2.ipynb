{
  "metadata": {
    "language_info": {
      "codemirror_mode": {
        "name": "python",
        "version": 3
      },
      "file_extension": ".py",
      "mimetype": "text/x-python",
      "name": "python",
      "nbconvert_exporter": "python",
      "pygments_lexer": "ipython3",
      "version": "3.8"
    },
    "kernelspec": {
      "name": "python",
      "display_name": "Python (Pyodide)",
      "language": "python"
    }
  },
  "nbformat_minor": 4,
  "nbformat": 4,
  "cells": [
    {
      "cell_type": "markdown",
      "source": "## Assignment 2 ",
      "metadata": {}
    },
    {
      "cell_type": "markdown",
      "source": "### Method no 1",
      "metadata": {}
    },
    {
      "cell_type": "code",
      "source": "\nname=\"Maria Noor Amjad\"\nfather_name=\"Pervaiz Iqbal Amjad\"\nage= 27\ngender= \"Female\"\nbatch=\"23\"\nprint(\"NED Student identity card\")\nprint(\"Batch: \", batch)\nprint(\"Name: \", name)\nprint(\"Father's Name: \", father_name )\nprint(\"Age: \", age)\nprint(\"Gender: \", gender)\n",
      "metadata": {
        "trusted": true
      },
      "execution_count": 12,
      "outputs": [
        {
          "name": "stdout",
          "text": "NED Student identity card\nBatch:  23\nName:  Maria Noor Amjad\nFather's Name:  Pervaiz Iqbal Amjad\nAge:  27\nGender:  Female\n",
          "output_type": "stream"
        }
      ]
    },
    {
      "cell_type": "markdown",
      "source": "### Method no 2",
      "metadata": {}
    },
    {
      "cell_type": "code",
      "source": "\nname=\"Maria Noor Amjad\"\nfather_name=\"Pervaiz Iqbal Amjad\"\nage= 27\ngender= \"Female\"\nstudent_card= \"\"\"\nNED Student Card\nBatch, \"\"\" + str(batch) + \"\"\"\\nStudent name: \"\"\" + str(name)+\"\"\"\\nFather's \nName: \"\"\" + str(father_name)+\"\"\"\\nage: \"\"\" + \"\"\"gender: \"\"\" + str(gender)\nprint(student_card)",
      "metadata": {
        "trusted": true
      },
      "execution_count": 16,
      "outputs": [
        {
          "name": "stdout",
          "text": "\nNED Student Card\nBatch, 23\nStudent name: Maria Noor Amjad\nFather's \nName: Pervaiz Iqbal Amjad\nage: gender: Female\n",
          "output_type": "stream"
        }
      ]
    },
    {
      "cell_type": "code",
      "source": "#\"\". #function and then add dot press tab to see all functions \na = \"hello world\"\nprint(a.capitalize())\n",
      "metadata": {
        "trusted": true
      },
      "execution_count": 25,
      "outputs": [
        {
          "name": "stdout",
          "text": "Hello world\n",
          "output_type": "stream"
        }
      ]
    },
    {
      "cell_type": "markdown",
      "source": "### Method 3 ",
      "metadata": {}
    },
    {
      "cell_type": "code",
      "source": "# Method 3\nstuden_card=\"\"\"\nNED Student Card\nBatch: {}\nName: {} Father's Name: {}\nAge: {} Gender: {} \"\"\".format(batch, name, father_name, age, gender)\nprint(studen_card)",
      "metadata": {
        "trusted": true
      },
      "execution_count": 31,
      "outputs": [
        {
          "name": "stdout",
          "text": "\nNED Student Card\nBatch23\nName: Maria Noor Amjad Father's Name Pervaiz Iqbal Amjad\nAge: 27 Gender Female \n",
          "output_type": "stream"
        }
      ]
    },
    {
      "cell_type": "markdown",
      "source": "### Method no 4",
      "metadata": {}
    },
    {
      "cell_type": "code",
      "source": "\nstuden_card=\"\"\"\nNED Student Card\nBatch: {0}\nName: {1} Father's Name: {2}\nAge: {3} Gender: {4} \"\"\".format(batch, name, father_name, age, gender)\nprint(studen_card)",
      "metadata": {
        "trusted": true
      },
      "execution_count": 33,
      "outputs": [
        {
          "name": "stdout",
          "text": "\nNED Student Card\nBatch: 23\nName: Maria Noor Amjad Father's Name: Pervaiz Iqbal Amjad\nAge: 27 Gender: Female \n",
          "output_type": "stream"
        }
      ]
    },
    {
      "cell_type": "markdown",
      "source": "### Method no 5",
      "metadata": {}
    },
    {
      "cell_type": "code",
      "source": "student_card = f\"\"\"NED Student Card\nBatch: {batch}\nName: {name} Father's Name: {father_name}\nAge: {age} Gender: {gender} \"\"\"\nprint(student_card)",
      "metadata": {
        "trusted": true
      },
      "execution_count": 38,
      "outputs": [
        {
          "name": "stdout",
          "text": "NED Student Card\nBatch: 23\nName: Maria Noor Amjad Father's Name: Pervaiz Iqbal Amjad\nAge: 27 Gender: Female \n",
          "output_type": "stream"
        }
      ]
    },
    {
      "cell_type": "markdown",
      "source": "### Different String Methods",
      "metadata": {
        "tags": []
      }
    },
    {
      "cell_type": "markdown",
      "source": "### Second Task",
      "metadata": {}
    },
    {
      "cell_type": "code",
      "source": "#print()best method write function name and press shift plus tab\nstr1 = \"maria noor\"\nstr2=\"maria\\tnoor\"\nstr4=\"maria\"\nstr5=\"1236\"\nprint(str1.capitalize())\nprint(str1.casefold())\nprint(str1.center(60))\nprint(str1.count(\"o\"))\nstr1.encode()",
      "metadata": {
        "trusted": true
      },
      "execution_count": 68,
      "outputs": [
        {
          "name": "stdout",
          "text": "Maria noor\nmaria noor\n                         maria noor                         \n2\n",
          "output_type": "stream"
        },
        {
          "execution_count": 68,
          "output_type": "execute_result",
          "data": {
            "text/plain": "b'maria noor'"
          },
          "metadata": {}
        }
      ]
    },
    {
      "cell_type": "code",
      "source": "print(str1.endswith(\"r\"))\nstr2.expandtabs(8)\nprint(str1.find(\"o\"))\nstr3={'name': 'maria', 'age' : 27}\nprint('My name is {name} and my age is {age}'.format_map(str3))\nstr1.index(\"n\")\n",
      "metadata": {
        "trusted": true
      },
      "execution_count": 85,
      "outputs": [
        {
          "name": "stdout",
          "text": "True\n7\nMy name is maria and my age is 27\n",
          "output_type": "stream"
        },
        {
          "execution_count": 85,
          "output_type": "execute_result",
          "data": {
            "text/plain": "6"
          },
          "metadata": {}
        }
      ]
    },
    {
      "cell_type": "code",
      "source": "print(str1.isalnum())\n\nprint(str4.isalpha())\nprint(str1.isascii())\n\nprint(str5.isdecimal())\nprint(str1.isdigit())\nprint(str1.isidentifier())",
      "metadata": {
        "trusted": true
      },
      "execution_count": 97,
      "outputs": [
        {
          "name": "stdout",
          "text": "False\nTrue\nTrue\nTrue\nFalse\nFalse\n",
          "output_type": "stream"
        }
      ]
    },
    {
      "cell_type": "code",
      "source": "str1.islower()",
      "metadata": {
        "trusted": true
      },
      "execution_count": 98,
      "outputs": [
        {
          "execution_count": 98,
          "output_type": "execute_result",
          "data": {
            "text/plain": "True"
          },
          "metadata": {}
        }
      ]
    },
    {
      "cell_type": "code",
      "source": "str5.isnumeric()",
      "metadata": {
        "trusted": true
      },
      "execution_count": 100,
      "outputs": [
        {
          "execution_count": 100,
          "output_type": "execute_result",
          "data": {
            "text/plain": "True"
          },
          "metadata": {}
        }
      ]
    },
    {
      "cell_type": "code",
      "source": "str1.isprintable()",
      "metadata": {
        "trusted": true
      },
      "execution_count": 101,
      "outputs": [
        {
          "execution_count": 101,
          "output_type": "execute_result",
          "data": {
            "text/plain": "True"
          },
          "metadata": {}
        }
      ]
    },
    {
      "cell_type": "code",
      "source": "str1.isspace()",
      "metadata": {
        "trusted": true
      },
      "execution_count": 102,
      "outputs": [
        {
          "execution_count": 102,
          "output_type": "execute_result",
          "data": {
            "text/plain": "False"
          },
          "metadata": {}
        }
      ]
    },
    {
      "cell_type": "code",
      "source": "str1.istitle()",
      "metadata": {
        "trusted": true
      },
      "execution_count": 103,
      "outputs": [
        {
          "execution_count": 103,
          "output_type": "execute_result",
          "data": {
            "text/plain": "False"
          },
          "metadata": {}
        }
      ]
    },
    {
      "cell_type": "code",
      "source": "str1.isupper()",
      "metadata": {
        "trusted": true
      },
      "execution_count": 104,
      "outputs": [
        {
          "execution_count": 104,
          "output_type": "execute_result",
          "data": {
            "text/plain": "False"
          },
          "metadata": {}
        }
      ]
    },
    {
      "cell_type": "code",
      "source": "str1.join(['amjad ',' 27'])",
      "metadata": {
        "trusted": true
      },
      "execution_count": 108,
      "outputs": [
        {
          "execution_count": 108,
          "output_type": "execute_result",
          "data": {
            "text/plain": "'amjad maria noor 27'"
          },
          "metadata": {}
        }
      ]
    },
    {
      "cell_type": "code",
      "source": "str1.ljust(50,';')",
      "metadata": {
        "trusted": true
      },
      "execution_count": 109,
      "outputs": [
        {
          "execution_count": 109,
          "output_type": "execute_result",
          "data": {
            "text/plain": "'maria noor;;;;;;;;;;;;;;;;;;;;;;;;;;;;;;;;;;;;;;;;'"
          },
          "metadata": {}
        }
      ]
    },
    {
      "cell_type": "code",
      "source": "str1.lower()",
      "metadata": {
        "trusted": true
      },
      "execution_count": 110,
      "outputs": [
        {
          "execution_count": 110,
          "output_type": "execute_result",
          "data": {
            "text/plain": "'maria noor'"
          },
          "metadata": {}
        }
      ]
    },
    {
      "cell_type": "code",
      "source": "str1.lstrip('mar')",
      "metadata": {
        "trusted": true
      },
      "execution_count": 113,
      "outputs": [
        {
          "execution_count": 113,
          "output_type": "execute_result",
          "data": {
            "text/plain": "'ia noor'"
          },
          "metadata": {}
        }
      ]
    },
    {
      "cell_type": "code",
      "source": "str1new=str1.maketrans(\"n\",\"m\")\nprint(str1.translate(str1new))",
      "metadata": {
        "trusted": true
      },
      "execution_count": 118,
      "outputs": [
        {
          "name": "stdout",
          "text": "maria moor\n",
          "output_type": "stream"
        }
      ]
    },
    {
      "cell_type": "code",
      "source": "str1.partition('n')",
      "metadata": {
        "trusted": true
      },
      "execution_count": 119,
      "outputs": [
        {
          "execution_count": 119,
          "output_type": "execute_result",
          "data": {
            "text/plain": "('maria ', 'n', 'oor')"
          },
          "metadata": {}
        }
      ]
    },
    {
      "cell_type": "code",
      "source": "print(str1.removesuffix('noor'))\nprint(str1.removeprefix('maria '))",
      "metadata": {
        "trusted": true
      },
      "execution_count": 124,
      "outputs": [
        {
          "name": "stdout",
          "text": "maria \nnoor\n",
          "output_type": "stream"
        }
      ]
    },
    {
      "cell_type": "code",
      "source": "str1.replace('noor','amjad')",
      "metadata": {
        "trusted": true
      },
      "execution_count": 125,
      "outputs": [
        {
          "execution_count": 125,
          "output_type": "execute_result",
          "data": {
            "text/plain": "'maria amjad'"
          },
          "metadata": {}
        }
      ]
    },
    {
      "cell_type": "code",
      "source": "str1.rfind('amj') #specified character not found is checked",
      "metadata": {
        "trusted": true
      },
      "execution_count": 126,
      "outputs": [
        {
          "execution_count": 126,
          "output_type": "execute_result",
          "data": {
            "text/plain": "-1"
          },
          "metadata": {}
        }
      ]
    },
    {
      "cell_type": "code",
      "source": "str1.rindex('no')",
      "metadata": {
        "trusted": true
      },
      "execution_count": 128,
      "outputs": [
        {
          "execution_count": 128,
          "output_type": "execute_result",
          "data": {
            "text/plain": "6"
          },
          "metadata": {}
        }
      ]
    },
    {
      "cell_type": "code",
      "source": "str1.rjust(50,';')",
      "metadata": {
        "trusted": true
      },
      "execution_count": 129,
      "outputs": [
        {
          "execution_count": 129,
          "output_type": "execute_result",
          "data": {
            "text/plain": "';;;;;;;;;;;;;;;;;;;;;;;;;;;;;;;;;;;;;;;;maria noor'"
          },
          "metadata": {}
        }
      ]
    },
    {
      "cell_type": "code",
      "source": "str1.rpartition('ia')",
      "metadata": {
        "trusted": true
      },
      "execution_count": 130,
      "outputs": [
        {
          "execution_count": 130,
          "output_type": "execute_result",
          "data": {
            "text/plain": "('mar', 'ia', ' noor')"
          },
          "metadata": {}
        }
      ]
    },
    {
      "cell_type": "code",
      "source": "str1.rsplit(' ')\n",
      "metadata": {
        "trusted": true
      },
      "execution_count": 131,
      "outputs": [
        {
          "execution_count": 131,
          "output_type": "execute_result",
          "data": {
            "text/plain": "['maria', 'noor']"
          },
          "metadata": {}
        }
      ]
    },
    {
      "cell_type": "code",
      "source": "print(str1.rstrip('noor'))",
      "metadata": {
        "trusted": true
      },
      "execution_count": 135,
      "outputs": [
        {
          "name": "stdout",
          "text": "maria \n",
          "output_type": "stream"
        }
      ]
    },
    {
      "cell_type": "code",
      "source": "print(str1.split(' '))",
      "metadata": {
        "trusted": true
      },
      "execution_count": 137,
      "outputs": [
        {
          "name": "stdout",
          "text": "['maria', 'noor']\n",
          "output_type": "stream"
        }
      ]
    },
    {
      "cell_type": "code",
      "source": "student_card.splitlines()",
      "metadata": {
        "trusted": true
      },
      "execution_count": 138,
      "outputs": [
        {
          "execution_count": 138,
          "output_type": "execute_result",
          "data": {
            "text/plain": "['NED Student Card',\n 'Batch: 23',\n \"Name: Maria Noor Amjad Father's Name: Pervaiz Iqbal Amjad\",\n 'Age: 27 Gender: Female ']"
          },
          "metadata": {}
        }
      ]
    },
    {
      "cell_type": "code",
      "source": "str1.startswith('n')",
      "metadata": {
        "trusted": true
      },
      "execution_count": 139,
      "outputs": [
        {
          "execution_count": 139,
          "output_type": "execute_result",
          "data": {
            "text/plain": "False"
          },
          "metadata": {}
        }
      ]
    },
    {
      "cell_type": "code",
      "source": "str6=\"          maria         \"\nstr6.strip()",
      "metadata": {
        "trusted": true
      },
      "execution_count": 141,
      "outputs": [
        {
          "execution_count": 141,
          "output_type": "execute_result",
          "data": {
            "text/plain": "'maria'"
          },
          "metadata": {}
        }
      ]
    },
    {
      "cell_type": "code",
      "source": "str1.swapcase()",
      "metadata": {
        "trusted": true
      },
      "execution_count": 142,
      "outputs": [
        {
          "execution_count": 142,
          "output_type": "execute_result",
          "data": {
            "text/plain": "'MARIA NOOR'"
          },
          "metadata": {}
        }
      ]
    },
    {
      "cell_type": "code",
      "source": "str1.title()",
      "metadata": {
        "trusted": true
      },
      "execution_count": 143,
      "outputs": [
        {
          "execution_count": 143,
          "output_type": "execute_result",
          "data": {
            "text/plain": "'Maria Noor'"
          },
          "metadata": {}
        }
      ]
    },
    {
      "cell_type": "code",
      "source": "str1.upper()",
      "metadata": {
        "trusted": true
      },
      "execution_count": 144,
      "outputs": [
        {
          "execution_count": 144,
          "output_type": "execute_result",
          "data": {
            "text/plain": "'MARIA NOOR'"
          },
          "metadata": {}
        }
      ]
    },
    {
      "cell_type": "code",
      "source": "str5.zfill(10)",
      "metadata": {
        "trusted": true
      },
      "execution_count": 146,
      "outputs": [
        {
          "execution_count": 146,
          "output_type": "execute_result",
          "data": {
            "text/plain": "'0000001236'"
          },
          "metadata": {}
        }
      ]
    },
    {
      "cell_type": "markdown",
      "source": "'capitalize', ok\n 'casefold', ok\n 'center', ok\n 'count',ok\n 'encode', ok\n 'endswith', ok\n 'expandtabs', ok\n 'find', ok\n 'format', done above\n 'format_map', ok\n 'index', ok\n 'isalnum', ok\n 'isalpha', ok\n 'isascii', ok\n 'isdecimal', ok\n 'isdigit', ok\n 'isidentifier', ok\n 'islower', ok\n 'isnumeric', ok\n 'isprintable', ok\n 'isspace', ok\n 'istitle', ok\n 'isupper', ok\n 'join', ok\n 'ljust', ok\n 'lower', ok\n 'lstrip', ok \n 'maketrans',ok\n 'partition', ok\n 'removeprefix',ok\n 'removesuffix', ok\n 'replace', ok \n 'rfind', ok\n 'rindex', ok\n 'rjust', ok \n 'rpartition', ok\n 'rsplit',ok\n 'rstrip', ok\n 'split', ok\n 'splitlines', ok \n 'startswith', ok \n 'strip', ok\n 'swapcase', ok\n 'title', ok\n 'translate', ok\n 'upper',ok\n 'zfill' ok]\n​",
      "metadata": {}
    },
    {
      "cell_type": "code",
      "source": "",
      "metadata": {
        "trusted": true
      },
      "execution_count": 55,
      "outputs": [
        {
          "ename": "<class 'SyntaxError'>",
          "evalue": "invalid syntax (<ipython-input-55-3b3d42434623>, line 1)",
          "traceback": [
            "\u001b[0;36m  Cell \u001b[0;32mIn[55], line 1\u001b[0;36m\u001b[0m\n\u001b[0;31m    casefold()??\u001b[0m\n\u001b[0m              ^\u001b[0m\n\u001b[0;31mSyntaxError\u001b[0m\u001b[0;31m:\u001b[0m invalid syntax\n"
          ],
          "output_type": "error"
        }
      ]
    },
    {
      "cell_type": "code",
      "source": "",
      "metadata": {},
      "execution_count": null,
      "outputs": []
    }
  ]
}